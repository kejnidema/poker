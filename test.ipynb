{
 "cells": [
  {
   "cell_type": "code",
   "execution_count": 1,
   "metadata": {},
   "outputs": [
    {
     "name": "stdout",
     "output_type": "stream",
     "text": [
      "9♥ \n",
      "7♥ \n",
      "10♥ \n",
      "9♣ \n",
      "9♦ \n",
      "8♦ \n",
      "4♥ \n",
      "\n",
      "0\n",
      "4♥ 7♥ 8♦ 9♥ 9♣ 9♦ 10♥ \n"
     ]
    }
   ],
   "source": [
    "from deck import Deck\n",
    "from evaluation import Evaluation\n",
    "\n",
    "e = Evaluation()\n",
    "deck = Deck()\n",
    "# print(deck)\n",
    "testHand = deck.deck[:7]\n",
    "deck.print_cards(testHand)\n",
    "\n",
    "score, remainingHand = e.two_pair(cards=testHand)\n",
    "print(score)\n",
    "\n",
    "card_string = ''\n",
    "for card in remainingHand:\n",
    "    card_string += str(card)\n",
    "print(card_string)\n",
    "\n"
   ]
  },
  {
   "cell_type": "code",
   "execution_count": 2,
   "metadata": {},
   "outputs": [
    {
     "name": "stdout",
     "output_type": "stream",
     "text": [
      "4♥ 7♥ 8♦ 9♥ 9♣ 9♦ 10♥ \n"
     ]
    }
   ],
   "source": [
    "card_string = ''\n",
    "for card in remainingHand:\n",
    "    card_string += str(card)\n",
    "print(card_string)\n",
    "\n",
    "\n"
   ]
  },
  {
   "cell_type": "code",
   "execution_count": 3,
   "metadata": {},
   "outputs": [
    {
     "name": "stdout",
     "output_type": "stream",
     "text": [
      "[4, 7, 8, 9, 9, 9, 10]\n"
     ]
    },
    {
     "data": {
      "text/plain": [
       "3"
      ]
     },
     "execution_count": 3,
     "metadata": {},
     "output_type": "execute_result"
    }
   ],
   "source": [
    "values = [card.value for card in sorted(testHand)]\n",
    "print(values)\n",
    "values.count(values[4])"
   ]
  }
 ],
 "metadata": {
  "kernelspec": {
   "display_name": "base",
   "language": "python",
   "name": "python3"
  },
  "language_info": {
   "codemirror_mode": {
    "name": "ipython",
    "version": 3
   },
   "file_extension": ".py",
   "mimetype": "text/x-python",
   "name": "python",
   "nbconvert_exporter": "python",
   "pygments_lexer": "ipython3",
   "version": "3.10.12"
  }
 },
 "nbformat": 4,
 "nbformat_minor": 2
}
