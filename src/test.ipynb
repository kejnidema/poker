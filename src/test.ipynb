{
 "cells": [
  {
   "cell_type": "code",
   "execution_count": 1,
   "metadata": {},
   "outputs": [
    {
     "name": "stdout",
     "output_type": "stream",
     "text": [
      "A♥ A♠ 2♥ 2♠ 3♥ 4♥ 5♥ \n",
      "high card\n",
      "14\n",
      "pair\n",
      "14\n",
      "2♥ 2♠ 3♥ 4♥ 5♥ \n",
      "two pair\n",
      "14 2\n",
      "3♥ 4♥ 5♥ \n",
      "three of a kind\n",
      "0\n",
      "A♥ A♠ 2♥ 2♠ 3♥ 4♥ 5♥ \n",
      "straight\n",
      "5\n",
      "A♥ A♠ 2♥ 2♠ 3♥ 4♥ 5♥ \n",
      "flush\n",
      "14\n",
      "A♥ 2♥ 3♥ 4♥ 5♥ \n",
      "full house\n",
      "0 14\n",
      "2♥ 2♠ 3♥ 4♥ 5♥ \n",
      "straight flush\n",
      "5\n",
      "A♥ 2♥ 3♥ 4♥ 5♥ \n"
     ]
    }
   ],
   "source": [
    "from deck import Deck\n",
    "from evaluation import Evaluation\n",
    "from card import Card\n",
    "e = Evaluation()\n",
    "deck = Deck()\n",
    "# print(deck)\n",
    "testHand = deck.deck[:7]\n",
    "testHand = [Card(1, 'heart'), Card(2, \"heart\"), Card(3, \"heart\"), Card(4, \"heart\"), Card(5, \"heart\"), Card(1, \"spade\"), Card(2, \"spade\")]\n",
    "\n",
    "\n",
    "deck.print_cards(sorted(testHand))\n",
    "\n",
    "\n",
    "def print_single_score(remainingHand, score):\n",
    "    print(score)\n",
    "    deck.print_cards(remainingHand)\n",
    "    \n",
    "def print_double_score(remainingHand, score1, score2):\n",
    "    print(score1, score2)\n",
    "    deck.print_cards(remainingHand)\n",
    "\n",
    "print('high card')\n",
    "print(e.high_card(testHand))\n",
    "\n",
    "print('pair')\n",
    "print_single_score(*e.pair(testHand))\n",
    "\n",
    "print('two pair')\n",
    "print_double_score(*e.two_pair(testHand))\n",
    "\n",
    "print('three of a kind')\n",
    "print_single_score(*e.three_of_a_kind(testHand))\n",
    "\n",
    "print('straight')\n",
    "print_single_score(*e.straight(testHand))\n",
    "\n",
    "print('flush')\n",
    "print_single_score(*e.flush(testHand))\n",
    "\n",
    "print('full house')\n",
    "print_double_score(*e.full_house(testHand))\n",
    "\n",
    "print('straight flush')\n",
    "print_single_score(*e.straight_flush(testHand))\n",
    "\n",
    "\n"
   ]
  }
 ],
 "metadata": {
  "kernelspec": {
   "display_name": "base",
   "language": "python",
   "name": "python3"
  },
  "language_info": {
   "codemirror_mode": {
    "name": "ipython",
    "version": 3
   },
   "file_extension": ".py",
   "mimetype": "text/x-python",
   "name": "python",
   "nbconvert_exporter": "python",
   "pygments_lexer": "ipython3",
   "version": "3.10.12"
  }
 },
 "nbformat": 4,
 "nbformat_minor": 2
}
